{
  "nbformat": 4,
  "nbformat_minor": 0,
  "metadata": {
    "colab": {
      "provenance": [],
      "authorship_tag": "ABX9TyMcE0WOT82ikQGLz5n/GF1j",
      "include_colab_link": true
    },
    "kernelspec": {
      "name": "python3",
      "display_name": "Python 3"
    },
    "language_info": {
      "name": "python"
    }
  },
  "cells": [
    {
      "cell_type": "markdown",
      "metadata": {
        "id": "view-in-github",
        "colab_type": "text"
      },
      "source": [
        "<a href=\"https://colab.research.google.com/github/NDSUKESH/sql-learning/blob/main/sql_2.ipynb\" target=\"_parent\"><img src=\"https://colab.research.google.com/assets/colab-badge.svg\" alt=\"Open In Colab\"/></a>"
      ]
    },
    {
      "cell_type": "code",
      "execution_count": 1,
      "metadata": {
        "id": "hFRtwoZxpu-h"
      },
      "outputs": [],
      "source": [
        "import sqlite3"
      ]
    },
    {
      "cell_type": "code",
      "source": [
        "conn=sqlite3.connect(\"data.db\")"
      ],
      "metadata": {
        "id": "r5QJ29EPqL6P"
      },
      "execution_count": 2,
      "outputs": []
    },
    {
      "cell_type": "code",
      "source": [
        "conn.execute('''create table employee\n",
        "(\n",
        "  id int,\n",
        "  fname varchar(20),\n",
        "  lname varchar(20),\n",
        "  age int,\n",
        "  department varchar(20),\n",
        "  salary int\n",
        ");''')\n",
        "conn.commit()"
      ],
      "metadata": {
        "id": "uebLYjZPqd7D"
      },
      "execution_count": 3,
      "outputs": []
    },
    {
      "cell_type": "code",
      "source": [
        "a=conn.execute(\"Select * From employee\")\n",
        "for r in a:\n",
        "  print(r)"
      ],
      "metadata": {
        "id": "gGSSpn0Qq2wd"
      },
      "execution_count": 4,
      "outputs": []
    },
    {
      "cell_type": "code",
      "source": [
        "conn.execute(\"insert into employee values(1,'john','wick',43,'finance',100)\")\n",
        "conn.commit()"
      ],
      "metadata": {
        "id": "FI9ONRD1q-W-"
      },
      "execution_count": 5,
      "outputs": []
    },
    {
      "cell_type": "code",
      "source": [
        "conn.execute(\"insert into employee values(2,'david','bech',25,'manager',1000)\")\n",
        "conn.execute(\"insert into employee values(3,'zyan','malik',30,'hr',500)\")\n",
        "conn.execute(\"insert into employee values(4,'harry','styles',29,'entertainment',700)\")\n",
        "conn.execute(\"insert into employee values(5,'steve','smith',39,'finance',75)\")\n",
        "conn.execute(\"insert into employee values(6,'ab','ab',40,'manager',130)\")\n",
        "conn.execute(\"insert into employee values(7,'virat','kohli',33,'entertainment',1000)\")\n",
        "conn.execute(\"insert into employee values(8,'MS','d',50,'hr',800)\")\n",
        "conn.execute(\"insert into employee values(9,'king','k',23,'finance',300)\")\n",
        "conn.execute(\"insert into employee values(10,'max','well',31,'manager',400)\")\n",
        "conn.execute(\"insert into employee values(11,'gueen','19',39,'entertainment',900)\")\n",
        "conn.execute(\"insert into employee values(12,'adam','ben',44,'hr',600)\")\n",
        "conn.commit()"
      ],
      "metadata": {
        "id": "Y1Itt66OrlGt"
      },
      "execution_count": 6,
      "outputs": []
    },
    {
      "cell_type": "code",
      "source": [
        "a=conn.execute(\"Select * From employee\")\n",
        "for r in a:\n",
        "  print(r)"
      ],
      "metadata": {
        "colab": {
          "base_uri": "https://localhost:8080/"
        },
        "id": "kiNcCp2jteAA",
        "outputId": "3588b5c2-f946-49d7-cbff-7cb463f44dad"
      },
      "execution_count": 7,
      "outputs": [
        {
          "output_type": "stream",
          "name": "stdout",
          "text": [
            "(1, 'john', 'wick', 43, 'finance', 100)\n",
            "(2, 'david', 'bech', 25, 'manager', 1000)\n",
            "(3, 'zyan', 'malik', 30, 'hr', 500)\n",
            "(4, 'harry', 'styles', 29, 'entertainment', 700)\n",
            "(5, 'steve', 'smith', 39, 'finance', 75)\n",
            "(6, 'ab', 'ab', 40, 'manager', 130)\n",
            "(7, 'virat', 'kohli', 33, 'entertainment', 1000)\n",
            "(8, 'MS', 'd', 50, 'hr', 800)\n",
            "(9, 'king', 'k', 23, 'finance', 300)\n",
            "(10, 'max', 'well', 31, 'manager', 400)\n",
            "(11, 'gueen', '19', 39, 'entertainment', 900)\n",
            "(12, 'adam', 'ben', 44, 'hr', 600)\n"
          ]
        }
      ]
    },
    {
      "cell_type": "markdown",
      "source": [
        "1.Retrieve the list of employees who have the highest salary in each department.Expected Output: List of employees with their department name and corresponding highest salary."
      ],
      "metadata": {
        "id": "8XK6EiJ4tpK8"
      }
    },
    {
      "cell_type": "code",
      "source": [
        "a=conn.execute(\"select fname,lname,max(salary) as top,department from employee group by department;\")"
      ],
      "metadata": {
        "id": "qvXMTJM5tioO"
      },
      "execution_count": 8,
      "outputs": []
    },
    {
      "cell_type": "code",
      "source": [
        "for r in a:\n",
        "  print(r)"
      ],
      "metadata": {
        "colab": {
          "base_uri": "https://localhost:8080/"
        },
        "id": "kSjJ2jh3uACH",
        "outputId": "84026139-0b1c-4ae2-ea5c-6e495ef5133d"
      },
      "execution_count": 9,
      "outputs": [
        {
          "output_type": "stream",
          "name": "stdout",
          "text": [
            "('virat', 'kohli', 1000, 'entertainment')\n",
            "('king', 'k', 300, 'finance')\n",
            "('MS', 'd', 800, 'hr')\n",
            "('david', 'bech', 1000, 'manager')\n"
          ]
        }
      ]
    },
    {
      "cell_type": "markdown",
      "source": [
        "2.Calculate the total salary expense for each department"
      ],
      "metadata": {
        "id": "Cgt34bzcunUR"
      }
    },
    {
      "cell_type": "code",
      "source": [
        "a=conn.execute(\"select department ,sum(salary) as expenses from employee group by department;\")\n",
        "for r in a:\n",
        "  print(r)"
      ],
      "metadata": {
        "colab": {
          "base_uri": "https://localhost:8080/"
        },
        "id": "tx9cUXXXuBxS",
        "outputId": "9ea8a0ec-1f35-426f-d1d8-c6970b304a43"
      },
      "execution_count": 10,
      "outputs": [
        {
          "output_type": "stream",
          "name": "stdout",
          "text": [
            "('entertainment', 2600)\n",
            "('finance', 475)\n",
            "('hr', 1900)\n",
            "('manager', 1530)\n"
          ]
        }
      ]
    },
    {
      "cell_type": "markdown",
      "source": [
        "3.Retrieve the list of employees whose last name starts with 'A' and have a salary greater than 100."
      ],
      "metadata": {
        "id": "LMkl99mDwGUI"
      }
    },
    {
      "cell_type": "code",
      "source": [
        "a=conn.execute(\"select fname from employee where fname like 'a%' and salary >100\")\n",
        "for r in a:\n",
        "  print(r)"
      ],
      "metadata": {
        "colab": {
          "base_uri": "https://localhost:8080/"
        },
        "id": "YupSHRq6u0eQ",
        "outputId": "4c9c1509-4013-4005-cb2f-4470c4784f99"
      },
      "execution_count": 11,
      "outputs": [
        {
          "output_type": "stream",
          "name": "stdout",
          "text": [
            "('ab',)\n",
            "('adam',)\n"
          ]
        }
      ]
    },
    {
      "cell_type": "markdown",
      "source": [
        "4.Calculate the average salary of employees in each department and display the result rounded to two decimal places."
      ],
      "metadata": {
        "id": "aqOY8vNKwtUo"
      }
    },
    {
      "cell_type": "code",
      "source": [
        "a=conn.execute(\"select round(avg(salary),2) as sal,department  from employee group by department ;\")\n",
        "for r in a:\n",
        "  print(r)"
      ],
      "metadata": {
        "colab": {
          "base_uri": "https://localhost:8080/"
        },
        "id": "45MdWnHUwjtD",
        "outputId": "909ffda9-3c31-496f-f14b-b52533112fc0"
      },
      "execution_count": 12,
      "outputs": [
        {
          "output_type": "stream",
          "name": "stdout",
          "text": [
            "(866.67, 'entertainment')\n",
            "(158.33, 'finance')\n",
            "(633.33, 'hr')\n",
            "(510.0, 'manager')\n"
          ]
        }
      ]
    },
    {
      "cell_type": "markdown",
      "source": [
        "5.Retrieve the list of employees who have the same first name as their last name"
      ],
      "metadata": {
        "id": "fusyOmlrxj3q"
      }
    },
    {
      "cell_type": "code",
      "source": [
        "a=conn.execute(\"select fname ,lname from employee where fname=lname;\")\n",
        "for r in a:\n",
        "  print(r)"
      ],
      "metadata": {
        "colab": {
          "base_uri": "https://localhost:8080/"
        },
        "id": "R_10zLAmw9_F",
        "outputId": "373d2d05-6883-4aec-fe75-4f25caa152a8"
      },
      "execution_count": 13,
      "outputs": [
        {
          "output_type": "stream",
          "name": "stdout",
          "text": [
            "('ab', 'ab')\n"
          ]
        }
      ]
    },
    {
      "cell_type": "markdown",
      "source": [
        "6.Retrieve the list of employees who have salary below avg"
      ],
      "metadata": {
        "id": "u8QENg1fyCZh"
      }
    },
    {
      "cell_type": "code",
      "source": [
        "a=conn.execute(\"select fname,salary from employee where salary <(select avg(salary) from employee);\")\n",
        "for r in a:\n",
        "  print(r)"
      ],
      "metadata": {
        "colab": {
          "base_uri": "https://localhost:8080/"
        },
        "id": "803PPdMqxz6K",
        "outputId": "a47d9c29-c045-4889-876b-33c4341b02fa"
      },
      "execution_count": 18,
      "outputs": [
        {
          "output_type": "stream",
          "name": "stdout",
          "text": [
            "('john', 100)\n",
            "('zyan', 500)\n",
            "('steve', 75)\n",
            "('ab', 130)\n",
            "('king', 300)\n",
            "('max', 400)\n"
          ]
        }
      ]
    },
    {
      "cell_type": "code",
      "source": [
        "a=conn.execute(\"select fname,salary from employee where  'john' in(fname);\")\n",
        "for r in a:\n",
        "  print(r)"
      ],
      "metadata": {
        "colab": {
          "base_uri": "https://localhost:8080/"
        },
        "id": "cCuFyqB_yat6",
        "outputId": "3e60424a-38a5-4de3-8343-ad8fb0276338"
      },
      "execution_count": 26,
      "outputs": [
        {
          "output_type": "stream",
          "name": "stdout",
          "text": [
            "('john', 100)\n"
          ]
        }
      ]
    },
    {
      "cell_type": "code",
      "source": [],
      "metadata": {
        "id": "xNZ2hlMhzMto"
      },
      "execution_count": null,
      "outputs": []
    }
  ]
}