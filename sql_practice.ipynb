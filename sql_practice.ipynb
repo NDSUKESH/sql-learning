{
  "nbformat": 4,
  "nbformat_minor": 0,
  "metadata": {
    "colab": {
      "provenance": [],
      "authorship_tag": "ABX9TyNTkhP1B0jhkccgWxWthgu2",
      "include_colab_link": true
    },
    "kernelspec": {
      "name": "python3",
      "display_name": "Python 3"
    },
    "language_info": {
      "name": "python"
    }
  },
  "cells": [
    {
      "cell_type": "markdown",
      "metadata": {
        "id": "view-in-github",
        "colab_type": "text"
      },
      "source": [
        "<a href=\"https://colab.research.google.com/github/NDSUKESH/sql-learning/blob/main/sql_practice.ipynb\" target=\"_parent\"><img src=\"https://colab.research.google.com/assets/colab-badge.svg\" alt=\"Open In Colab\"/></a>"
      ]
    },
    {
      "cell_type": "code",
      "execution_count": 1,
      "metadata": {
        "id": "EcwPwj8irBeM"
      },
      "outputs": [],
      "source": [
        "import sqlite3"
      ]
    },
    {
      "cell_type": "code",
      "source": [
        "conn=sqlite3.connect(\"data.db\")"
      ],
      "metadata": {
        "id": "a6pyGAQLsape"
      },
      "execution_count": 2,
      "outputs": []
    },
    {
      "cell_type": "code",
      "source": [
        "conn.execute('''CREATE TABLE customers (\n",
        "  customer_id INT PRIMARY KEY,\n",
        "  customer_name VARCHAR(50),\n",
        "  email VARCHAR(100),\n",
        "  phone_number VARCHAR(20)\n",
        ");''')\n",
        "conn.commit()"
      ],
      "metadata": {
        "id": "pHyWcGyXsgbp"
      },
      "execution_count": 3,
      "outputs": []
    },
    {
      "cell_type": "code",
      "source": [
        "conn.execute('''INSERT INTO customers VALUES\n",
        "  (1, 'Alice Smith', 'alice@example.com', '+1 (555) 123-4567'),\n",
        "  (2, 'Bob Johnson', 'bob@example.com', '+1 (555) 234-5678'),\n",
        "  (3, 'Charlie Brown', 'charlie@example.com', '+1 (555) 345-6789'),\n",
        "  (4, 'David Lee', 'david@example.com', '+1 (555) 456-7890'),\n",
        "  (5, 'Emma Davis', 'emma@example.com', '+1 (555) 567-8901');''')\n",
        "conn.commit()"
      ],
      "metadata": {
        "id": "geeVKVdItMJv"
      },
      "execution_count": 4,
      "outputs": []
    },
    {
      "cell_type": "code",
      "source": [
        "a=conn.execute(\"select * from customers;\")\n",
        "for i in a:\n",
        "  print(i)"
      ],
      "metadata": {
        "colab": {
          "base_uri": "https://localhost:8080/"
        },
        "id": "RhqB594NtWsj",
        "outputId": "cf44d8df-bda1-4859-90ab-787e43b64bfb"
      },
      "execution_count": 5,
      "outputs": [
        {
          "output_type": "stream",
          "name": "stdout",
          "text": [
            "(1, 'Alice Smith', 'alice@example.com', '+1 (555) 123-4567')\n",
            "(2, 'Bob Johnson', 'bob@example.com', '+1 (555) 234-5678')\n",
            "(3, 'Charlie Brown', 'charlie@example.com', '+1 (555) 345-6789')\n",
            "(4, 'David Lee', 'david@example.com', '+1 (555) 456-7890')\n",
            "(5, 'Emma Davis', 'emma@example.com', '+1 (555) 567-8901')\n"
          ]
        }
      ]
    },
    {
      "cell_type": "code",
      "source": [
        "conn.execute('''CREATE TABLE orders (\n",
        "  order_id INT PRIMARY KEY,\n",
        "  customer_id INT,\n",
        "  order_date DATE,\n",
        "  total_amount DECIMAL(10,2),\n",
        "  status VARCHAR(20)\n",
        ");''')"
      ],
      "metadata": {
        "colab": {
          "base_uri": "https://localhost:8080/"
        },
        "id": "fgO-wiEbuHB8",
        "outputId": "1debb362-a4f4-4f9f-e1d7-f5acbe27f61a"
      },
      "execution_count": 6,
      "outputs": [
        {
          "output_type": "execute_result",
          "data": {
            "text/plain": [
              "<sqlite3.Cursor at 0x7f461139f340>"
            ]
          },
          "metadata": {},
          "execution_count": 6
        }
      ]
    },
    {
      "cell_type": "code",
      "source": [
        "conn.commit()"
      ],
      "metadata": {
        "id": "4OM_LIbyuPUM"
      },
      "execution_count": 7,
      "outputs": []
    },
    {
      "cell_type": "code",
      "source": [
        "conn.execute('''INSERT INTO orders VALUES \n",
        "  (1, 1, '2021-01-01', 100.00, 'Complete'),\n",
        "  (2, 2, '2021-01-02', 75.00, 'Pending'),\n",
        "  (3, 3, '2021-01-03', 50.00, 'Complete'),\n",
        "  (4, 4, '2021-01-04', 200.00, 'Complete'),\n",
        "  (5, 5, '2021-01-05', 150.00, 'Pending'),\n",
        "  (6, 1, '2021-01-06', 25.00, 'Complete'),\n",
        "  (7, 2, '2021-01-07', 300.00, 'Pending'),\n",
        "  (8, 3, '2021-01-08', 125.00, 'Complete'),\n",
        "  (9, 4, '2021-01-09', 50.00, 'Complete'),\n",
        "  (10, 5, '2021-01-10', 175.00, 'Pending');''')"
      ],
      "metadata": {
        "colab": {
          "base_uri": "https://localhost:8080/"
        },
        "id": "inQqPdbyuRRb",
        "outputId": "68ba3830-02bf-4f86-dedb-198e237514c6"
      },
      "execution_count": 8,
      "outputs": [
        {
          "output_type": "execute_result",
          "data": {
            "text/plain": [
              "<sqlite3.Cursor at 0x7f461139ea40>"
            ]
          },
          "metadata": {},
          "execution_count": 8
        }
      ]
    },
    {
      "cell_type": "code",
      "source": [
        "conn.commit()"
      ],
      "metadata": {
        "id": "t3U4yUINutXO"
      },
      "execution_count": 9,
      "outputs": []
    },
    {
      "cell_type": "code",
      "source": [
        "a=conn.execute(\"select * from orders;\")\n",
        "for i in a:\n",
        "  print(i)"
      ],
      "metadata": {
        "colab": {
          "base_uri": "https://localhost:8080/"
        },
        "id": "AT8_oZQguvVh",
        "outputId": "8d0fdb69-43d7-4308-d0a8-42e62ee8f24b"
      },
      "execution_count": 10,
      "outputs": [
        {
          "output_type": "stream",
          "name": "stdout",
          "text": [
            "(1, 1, '2021-01-01', 100, 'Complete')\n",
            "(2, 2, '2021-01-02', 75, 'Pending')\n",
            "(3, 3, '2021-01-03', 50, 'Complete')\n",
            "(4, 4, '2021-01-04', 200, 'Complete')\n",
            "(5, 5, '2021-01-05', 150, 'Pending')\n",
            "(6, 1, '2021-01-06', 25, 'Complete')\n",
            "(7, 2, '2021-01-07', 300, 'Pending')\n",
            "(8, 3, '2021-01-08', 125, 'Complete')\n",
            "(9, 4, '2021-01-09', 50, 'Complete')\n",
            "(10, 5, '2021-01-10', 175, 'Pending')\n"
          ]
        }
      ]
    },
    {
      "cell_type": "markdown",
      "source": [
        "1.Write a query to find the customer(s) who have made at least three orders with a total amount greater than $100."
      ],
      "metadata": {
        "id": "Cs-j_bJQvJ9u"
      }
    },
    {
      "cell_type": "code",
      "source": [
        "a=conn.execute('''\n",
        " SELECT c.customer_name\n",
        "FROM customers c\n",
        "JOIN (\n",
        "  SELECT customer_id\n",
        "  FROM orders \n",
        "  WHERE total_amount > 100\n",
        "  GROUP BY customer_id\n",
        "  HAVING COUNT(*) >= 2\n",
        ") o ON c.customer_id = o.customer_id;\n",
        "''')"
      ],
      "metadata": {
        "id": "XdQiLCtqu7Xj"
      },
      "execution_count": 11,
      "outputs": []
    },
    {
      "cell_type": "code",
      "source": [
        "for i in a:\n",
        "  print(i)"
      ],
      "metadata": {
        "colab": {
          "base_uri": "https://localhost:8080/"
        },
        "id": "LbXDxeRJwKq3",
        "outputId": "0c861f90-41e5-4e10-b0aa-9fcadc6949e3"
      },
      "execution_count": 12,
      "outputs": [
        {
          "output_type": "stream",
          "name": "stdout",
          "text": [
            "('Emma Davis',)\n"
          ]
        }
      ]
    },
    {
      "cell_type": "markdown",
      "source": [
        "2.Write a query to find the month(s) with the highest total amount of completed orders."
      ],
      "metadata": {
        "id": "Ypw5q_CVxZ1u"
      }
    },
    {
      "cell_type": "code",
      "source": [
        "a=conn.execute('''SELECT \n",
        "  strftime('%m', order_date) AS month, \n",
        "  SUM(total_amount) AS total_amount \n",
        "FROM orders \n",
        "WHERE status = 'Complete' \n",
        "GROUP BY month \n",
        "ORDER BY total_amount DESC \n",
        "LIMIT 1;\n",
        "''')\n",
        "for i in a:\n",
        "  print(i)"
      ],
      "metadata": {
        "colab": {
          "base_uri": "https://localhost:8080/"
        },
        "id": "J9xXQITcwOa7",
        "outputId": "9882da67-1167-46cb-fd79-cf7776df4106"
      },
      "execution_count": 13,
      "outputs": [
        {
          "output_type": "stream",
          "name": "stdout",
          "text": [
            "('01', 550)\n"
          ]
        }
      ]
    },
    {
      "cell_type": "markdown",
      "source": [
        "3.Write a query to find the customer(s) who have only made orders with a status of \"Complete\"."
      ],
      "metadata": {
        "id": "Oo1KbeMN1VGb"
      }
    },
    {
      "cell_type": "code",
      "source": [
        "a=conn.execute('''SELECT c.customer_name from orders o join customers c on o.customer_id=c.customer_id  where status='Complete'group by o.Customer_id;''')\n",
        "for i in a:\n",
        "  print(i)"
      ],
      "metadata": {
        "colab": {
          "base_uri": "https://localhost:8080/"
        },
        "id": "GZH7spamzzDT",
        "outputId": "10a08211-15f9-422e-948e-962315d607cf"
      },
      "execution_count": 14,
      "outputs": [
        {
          "output_type": "stream",
          "name": "stdout",
          "text": [
            "('Alice Smith',)\n",
            "('Charlie Brown',)\n",
            "('David Lee',)\n"
          ]
        }
      ]
    },
    {
      "cell_type": "markdown",
      "source": [
        "4.Write a query to find the order(s) with the highest total amount for each month in the year 2021."
      ],
      "metadata": {
        "id": "cMZHDGbu3jJJ"
      }
    },
    {
      "cell_type": "code",
      "source": [
        "a=conn.execute(\"select strftime('%m',order_date)as month,total_amount from orders where status='Complete' group by month;\")\n",
        "for i in a:\n",
        "  print(i)"
      ],
      "metadata": {
        "colab": {
          "base_uri": "https://localhost:8080/"
        },
        "id": "llzjprwd2_72",
        "outputId": "dfdd0d67-81c1-443d-a0b9-81db5c57ab3b"
      },
      "execution_count": 18,
      "outputs": [
        {
          "output_type": "stream",
          "name": "stdout",
          "text": [
            "('01', 100)\n"
          ]
        }
      ]
    },
    {
      "cell_type": "markdown",
      "source": [
        "5.Write a query to find the percentage of orders that have a status of \"Complete\"."
      ],
      "metadata": {
        "id": "c88hOFD5XvNv"
      }
    },
    {
      "cell_type": "code",
      "source": [
        "a=conn.execute(\"SELECT (COUNT(CASE WHEN status = 'Complete' THEN 1 END) * 100.0 / COUNT(*)) AS complete_percentage FROM orders;\")"
      ],
      "metadata": {
        "id": "LD0TSfgz4f7N"
      },
      "execution_count": 33,
      "outputs": []
    },
    {
      "cell_type": "code",
      "source": [
        "for i in a:\n",
        "  print(i)"
      ],
      "metadata": {
        "id": "M5jy4eKzbLyv",
        "outputId": "91515d04-e1ef-4761-aa15-5664d6fbf6bc",
        "colab": {
          "base_uri": "https://localhost:8080/"
        }
      },
      "execution_count": 34,
      "outputs": [
        {
          "output_type": "stream",
          "name": "stdout",
          "text": [
            "(60.0,)\n"
          ]
        }
      ]
    }
  ]
}