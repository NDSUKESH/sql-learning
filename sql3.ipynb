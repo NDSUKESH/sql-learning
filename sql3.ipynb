{
  "nbformat": 4,
  "nbformat_minor": 0,
  "metadata": {
    "colab": {
      "provenance": [],
      "authorship_tag": "ABX9TyO3U5J78UoiCl+NXSJ0jKQT",
      "include_colab_link": true
    },
    "kernelspec": {
      "name": "python3",
      "display_name": "Python 3"
    },
    "language_info": {
      "name": "python"
    }
  },
  "cells": [
    {
      "cell_type": "markdown",
      "metadata": {
        "id": "view-in-github",
        "colab_type": "text"
      },
      "source": [
        "<a href=\"https://colab.research.google.com/github/NDSUKESH/sql-learning/blob/main/sql3.ipynb\" target=\"_parent\"><img src=\"https://colab.research.google.com/assets/colab-badge.svg\" alt=\"Open In Colab\"/></a>"
      ]
    },
    {
      "cell_type": "code",
      "execution_count": 3,
      "metadata": {
        "id": "M8NwD39SNkDx"
      },
      "outputs": [],
      "source": [
        "import sqlite3"
      ]
    },
    {
      "cell_type": "code",
      "source": [
        "conn=sqlite3.connect(\"sales.db\")\n"
      ],
      "metadata": {
        "id": "o_a3t66SN325"
      },
      "execution_count": 4,
      "outputs": []
    },
    {
      "cell_type": "code",
      "source": [
        "conn.execute('''create table sales\n",
        "(\n",
        "  oid int, /* order id */\n",
        "  cid int,  /* customer id */\n",
        "  pid int,   /* product id */\n",
        "  sdata DATE,\n",
        "  quantity int,\n",
        "  price float\n",
        ");''')\n",
        "conn.commit()"
      ],
      "metadata": {
        "id": "p768Z1aTN_BG"
      },
      "execution_count": 5,
      "outputs": []
    },
    {
      "cell_type": "code",
      "source": [
        "conn.execute(\"insert into sales values(1,100,101,2021-1-1,5,10.5);\")\n",
        "conn.commit()"
      ],
      "metadata": {
        "id": "3L3HyIVZOs68"
      },
      "execution_count": 6,
      "outputs": []
    },
    {
      "cell_type": "code",
      "source": [
        "conn.execute(\"insert into sales values(2,101,102,2021-1-2,2,55);\")\n",
        "conn.execute(\"insert into sales values(3,102,103,2021-1-3,4,12);\")\n",
        "conn.execute(\"insert into sales values(4,103,104,2021-1-4,7,11.5);\")\n",
        "conn.execute(\"insert into sales values(5,104,102,2021-1-15,5,19.5);\")\n",
        "conn.execute(\"insert into sales values(6,102,101,2021-1-1,6,25.55);\")\n",
        "conn.execute(\"insert into sales values(7,101,104,2021-1-2,1,100);\")\n",
        "conn.execute(\"insert into sales values(8,103,101,2021-1-3,2,12.5);\")\n",
        "conn.execute(\"insert into sales values(9,104,102,2021-1-4,8,11.5);\")\n",
        "conn.commit()\n",
        "a=conn.execute(\"select * from sales;\")\n",
        "for r in a:\n",
        "  print(r)"
      ],
      "metadata": {
        "colab": {
          "base_uri": "https://localhost:8080/"
        },
        "id": "P1u7rlxUPZ20",
        "outputId": "b565e17b-8924-4ed7-b118-52af61839b36"
      },
      "execution_count": 7,
      "outputs": [
        {
          "output_type": "stream",
          "name": "stdout",
          "text": [
            "(1, 100, 101, 2019, 5, 10.5)\n",
            "(2, 101, 102, 2018, 2, 55.0)\n",
            "(3, 102, 103, 2017, 4, 12.0)\n",
            "(4, 103, 104, 2016, 7, 11.5)\n",
            "(5, 104, 102, 2005, 5, 19.5)\n",
            "(6, 102, 101, 2019, 6, 25.55)\n",
            "(7, 101, 104, 2018, 1, 100.0)\n",
            "(8, 103, 101, 2017, 2, 12.5)\n",
            "(9, 104, 102, 2016, 8, 11.5)\n"
          ]
        }
      ]
    },
    {
      "cell_type": "markdown",
      "source": [
        "###1.Retrieve the total sales amount for each product, considering the quantity and price."
      ],
      "metadata": {
        "id": "sAwR3XhgQRBd"
      }
    },
    {
      "cell_type": "code",
      "source": [
        "a=conn.execute(\"select pid,sum(price*quantity)as amount from sales group by pid;\")\n",
        "for r in a:\n",
        "  print(r)"
      ],
      "metadata": {
        "colab": {
          "base_uri": "https://localhost:8080/"
        },
        "id": "iZbpLq1XQNus",
        "outputId": "b1a9286d-151c-4f10-facf-4be2edce53c2"
      },
      "execution_count": 8,
      "outputs": [
        {
          "output_type": "stream",
          "name": "stdout",
          "text": [
            "(101, 230.8)\n",
            "(102, 299.5)\n",
            "(103, 48.0)\n",
            "(104, 180.5)\n"
          ]
        }
      ]
    },
    {
      "cell_type": "markdown",
      "source": [
        "###3.Retrieve the top 3 customers who made the highest total purchase amount."
      ],
      "metadata": {
        "id": "6x3XOMlKRAYy"
      }
    },
    {
      "cell_type": "code",
      "source": [
        "a=conn.execute(\"select cid,sum(price*quantity)as amount from sales group by cid order by amount desc limit 3 \")\n",
        "for r in a:\n",
        "  print(r)"
      ],
      "metadata": {
        "colab": {
          "base_uri": "https://localhost:8080/"
        },
        "id": "VPFe_e70RDDr",
        "outputId": "e6015d39-db03-4511-e427-b888ecadc3b6"
      },
      "execution_count": 9,
      "outputs": [
        {
          "output_type": "stream",
          "name": "stdout",
          "text": [
            "(101, 210.0)\n",
            "(102, 201.3)\n",
            "(104, 189.5)\n"
          ]
        }
      ]
    },
    {
      "cell_type": "markdown",
      "source": [
        "###3.Retrieve the products that were sold more then twice.\n",
        "\n"
      ],
      "metadata": {
        "id": "2LEIRikiRvkp"
      }
    },
    {
      "cell_type": "code",
      "source": [
        "a=conn.execute(\"select pid from sales group by pid having count(*)>2;\")\n",
        "for r in a:\n",
        "  print(r)"
      ],
      "metadata": {
        "colab": {
          "base_uri": "https://localhost:8080/"
        },
        "id": "jrYnoklXRcTN",
        "outputId": "e6b5f5b1-ff99-4b2e-b049-a698575dcf4c"
      },
      "execution_count": 10,
      "outputs": [
        {
          "output_type": "stream",
          "name": "stdout",
          "text": [
            "(101,)\n",
            "(102,)\n"
          ]
        }
      ]
    },
    {
      "cell_type": "markdown",
      "source": [
        "--------------------------------------------------------------------------"
      ],
      "metadata": {
        "id": "g80yFsolT43X"
      }
    },
    {
      "cell_type": "code",
      "source": [
        "import pandas as pd\n",
        "import numpy as np"
      ],
      "metadata": {
        "id": "acNEMFC_SSHz"
      },
      "execution_count": 11,
      "outputs": []
    },
    {
      "cell_type": "code",
      "source": [
        "dfs=pd.read_csv('countries (1).csv')\n",
        "dfs.head(5)"
      ],
      "metadata": {
        "colab": {
          "base_uri": "https://localhost:8080/",
          "height": 206
        },
        "id": "hVOKFFRIUdCm",
        "outputId": "253ebca5-1375-47ba-dc84-cd0e7be213ff"
      },
      "execution_count": 12,
      "outputs": [
        {
          "output_type": "execute_result",
          "data": {
            "text/plain": [
              "      location continent  population  life_expectancy  \\\n",
              "0  Afghanistan      Asia  38928341.0            64.83   \n",
              "1      Albania    Europe   2877800.0            78.57   \n",
              "2      Algeria    Africa  43851043.0            76.88   \n",
              "3      Andorra    Europe     77265.0            83.73   \n",
              "4       Angola    Africa  32866268.0            61.15   \n",
              "\n",
              "   hospital_beds_per_thousand  gdp_per_capita  \n",
              "0                        0.50        1803.987  \n",
              "1                        2.89       11803.431  \n",
              "2                        1.90       13913.839  \n",
              "3                         NaN             NaN  \n",
              "4                         NaN        5819.495  "
            ],
            "text/html": [
              "\n",
              "  <div id=\"df-b85871af-0355-41ef-bbd5-8da2bbaac531\">\n",
              "    <div class=\"colab-df-container\">\n",
              "      <div>\n",
              "<style scoped>\n",
              "    .dataframe tbody tr th:only-of-type {\n",
              "        vertical-align: middle;\n",
              "    }\n",
              "\n",
              "    .dataframe tbody tr th {\n",
              "        vertical-align: top;\n",
              "    }\n",
              "\n",
              "    .dataframe thead th {\n",
              "        text-align: right;\n",
              "    }\n",
              "</style>\n",
              "<table border=\"1\" class=\"dataframe\">\n",
              "  <thead>\n",
              "    <tr style=\"text-align: right;\">\n",
              "      <th></th>\n",
              "      <th>location</th>\n",
              "      <th>continent</th>\n",
              "      <th>population</th>\n",
              "      <th>life_expectancy</th>\n",
              "      <th>hospital_beds_per_thousand</th>\n",
              "      <th>gdp_per_capita</th>\n",
              "    </tr>\n",
              "  </thead>\n",
              "  <tbody>\n",
              "    <tr>\n",
              "      <th>0</th>\n",
              "      <td>Afghanistan</td>\n",
              "      <td>Asia</td>\n",
              "      <td>38928341.0</td>\n",
              "      <td>64.83</td>\n",
              "      <td>0.50</td>\n",
              "      <td>1803.987</td>\n",
              "    </tr>\n",
              "    <tr>\n",
              "      <th>1</th>\n",
              "      <td>Albania</td>\n",
              "      <td>Europe</td>\n",
              "      <td>2877800.0</td>\n",
              "      <td>78.57</td>\n",
              "      <td>2.89</td>\n",
              "      <td>11803.431</td>\n",
              "    </tr>\n",
              "    <tr>\n",
              "      <th>2</th>\n",
              "      <td>Algeria</td>\n",
              "      <td>Africa</td>\n",
              "      <td>43851043.0</td>\n",
              "      <td>76.88</td>\n",
              "      <td>1.90</td>\n",
              "      <td>13913.839</td>\n",
              "    </tr>\n",
              "    <tr>\n",
              "      <th>3</th>\n",
              "      <td>Andorra</td>\n",
              "      <td>Europe</td>\n",
              "      <td>77265.0</td>\n",
              "      <td>83.73</td>\n",
              "      <td>NaN</td>\n",
              "      <td>NaN</td>\n",
              "    </tr>\n",
              "    <tr>\n",
              "      <th>4</th>\n",
              "      <td>Angola</td>\n",
              "      <td>Africa</td>\n",
              "      <td>32866268.0</td>\n",
              "      <td>61.15</td>\n",
              "      <td>NaN</td>\n",
              "      <td>5819.495</td>\n",
              "    </tr>\n",
              "  </tbody>\n",
              "</table>\n",
              "</div>\n",
              "      <button class=\"colab-df-convert\" onclick=\"convertToInteractive('df-b85871af-0355-41ef-bbd5-8da2bbaac531')\"\n",
              "              title=\"Convert this dataframe to an interactive table.\"\n",
              "              style=\"display:none;\">\n",
              "        \n",
              "  <svg xmlns=\"http://www.w3.org/2000/svg\" height=\"24px\"viewBox=\"0 0 24 24\"\n",
              "       width=\"24px\">\n",
              "    <path d=\"M0 0h24v24H0V0z\" fill=\"none\"/>\n",
              "    <path d=\"M18.56 5.44l.94 2.06.94-2.06 2.06-.94-2.06-.94-.94-2.06-.94 2.06-2.06.94zm-11 1L8.5 8.5l.94-2.06 2.06-.94-2.06-.94L8.5 2.5l-.94 2.06-2.06.94zm10 10l.94 2.06.94-2.06 2.06-.94-2.06-.94-.94-2.06-.94 2.06-2.06.94z\"/><path d=\"M17.41 7.96l-1.37-1.37c-.4-.4-.92-.59-1.43-.59-.52 0-1.04.2-1.43.59L10.3 9.45l-7.72 7.72c-.78.78-.78 2.05 0 2.83L4 21.41c.39.39.9.59 1.41.59.51 0 1.02-.2 1.41-.59l7.78-7.78 2.81-2.81c.8-.78.8-2.07 0-2.86zM5.41 20L4 18.59l7.72-7.72 1.47 1.35L5.41 20z\"/>\n",
              "  </svg>\n",
              "      </button>\n",
              "      \n",
              "  <style>\n",
              "    .colab-df-container {\n",
              "      display:flex;\n",
              "      flex-wrap:wrap;\n",
              "      gap: 12px;\n",
              "    }\n",
              "\n",
              "    .colab-df-convert {\n",
              "      background-color: #E8F0FE;\n",
              "      border: none;\n",
              "      border-radius: 50%;\n",
              "      cursor: pointer;\n",
              "      display: none;\n",
              "      fill: #1967D2;\n",
              "      height: 32px;\n",
              "      padding: 0 0 0 0;\n",
              "      width: 32px;\n",
              "    }\n",
              "\n",
              "    .colab-df-convert:hover {\n",
              "      background-color: #E2EBFA;\n",
              "      box-shadow: 0px 1px 2px rgba(60, 64, 67, 0.3), 0px 1px 3px 1px rgba(60, 64, 67, 0.15);\n",
              "      fill: #174EA6;\n",
              "    }\n",
              "\n",
              "    [theme=dark] .colab-df-convert {\n",
              "      background-color: #3B4455;\n",
              "      fill: #D2E3FC;\n",
              "    }\n",
              "\n",
              "    [theme=dark] .colab-df-convert:hover {\n",
              "      background-color: #434B5C;\n",
              "      box-shadow: 0px 1px 3px 1px rgba(0, 0, 0, 0.15);\n",
              "      filter: drop-shadow(0px 1px 2px rgba(0, 0, 0, 0.3));\n",
              "      fill: #FFFFFF;\n",
              "    }\n",
              "  </style>\n",
              "\n",
              "      <script>\n",
              "        const buttonEl =\n",
              "          document.querySelector('#df-b85871af-0355-41ef-bbd5-8da2bbaac531 button.colab-df-convert');\n",
              "        buttonEl.style.display =\n",
              "          google.colab.kernel.accessAllowed ? 'block' : 'none';\n",
              "\n",
              "        async function convertToInteractive(key) {\n",
              "          const element = document.querySelector('#df-b85871af-0355-41ef-bbd5-8da2bbaac531');\n",
              "          const dataTable =\n",
              "            await google.colab.kernel.invokeFunction('convertToInteractive',\n",
              "                                                     [key], {});\n",
              "          if (!dataTable) return;\n",
              "\n",
              "          const docLinkHtml = 'Like what you see? Visit the ' +\n",
              "            '<a target=\"_blank\" href=https://colab.research.google.com/notebooks/data_table.ipynb>data table notebook</a>'\n",
              "            + ' to learn more about interactive tables.';\n",
              "          element.innerHTML = '';\n",
              "          dataTable['output_type'] = 'display_data';\n",
              "          await google.colab.output.renderOutput(dataTable, element);\n",
              "          const docLink = document.createElement('div');\n",
              "          docLink.innerHTML = docLinkHtml;\n",
              "          element.appendChild(docLink);\n",
              "        }\n",
              "      </script>\n",
              "    </div>\n",
              "  </div>\n",
              "  "
            ]
          },
          "metadata": {},
          "execution_count": 12
        }
      ]
    },
    {
      "cell_type": "code",
      "source": [
        "dfs.shape"
      ],
      "metadata": {
        "colab": {
          "base_uri": "https://localhost:8080/"
        },
        "id": "KvY9QS_CUikT",
        "outputId": "f31979ce-3a0b-4a52-a3ff-04534f512a42"
      },
      "execution_count": 13,
      "outputs": [
        {
          "output_type": "execute_result",
          "data": {
            "text/plain": [
              "(210, 6)"
            ]
          },
          "metadata": {},
          "execution_count": 13
        }
      ]
    },
    {
      "cell_type": "code",
      "source": [
        "dfs=dfs.dropna()\n",
        "dfs.shape"
      ],
      "metadata": {
        "colab": {
          "base_uri": "https://localhost:8080/"
        },
        "id": "1BJ4y0jTU0TE",
        "outputId": "874ace5a-7bfe-43b4-a66a-a7e63c615ea9"
      },
      "execution_count": 14,
      "outputs": [
        {
          "output_type": "execute_result",
          "data": {
            "text/plain": [
              "(159, 6)"
            ]
          },
          "metadata": {},
          "execution_count": 14
        }
      ]
    },
    {
      "cell_type": "code",
      "source": [
        "dfs.head(5)"
      ],
      "metadata": {
        "colab": {
          "base_uri": "https://localhost:8080/",
          "height": 206
        },
        "id": "QrkvCNFeU8Qv",
        "outputId": "e9141fae-f998-408a-b1b3-8fe248f895e1"
      },
      "execution_count": 15,
      "outputs": [
        {
          "output_type": "execute_result",
          "data": {
            "text/plain": [
              "              location      continent  population  life_expectancy  \\\n",
              "0          Afghanistan           Asia  38928341.0            64.83   \n",
              "1              Albania         Europe   2877800.0            78.57   \n",
              "2              Algeria         Africa  43851043.0            76.88   \n",
              "6  Antigua and Barbuda  North America     97928.0            77.02   \n",
              "7            Argentina  South America  45195777.0            76.67   \n",
              "\n",
              "   hospital_beds_per_thousand  gdp_per_capita  \n",
              "0                        0.50        1803.987  \n",
              "1                        2.89       11803.431  \n",
              "2                        1.90       13913.839  \n",
              "6                        3.80       21490.943  \n",
              "7                        5.00       18933.907  "
            ],
            "text/html": [
              "\n",
              "  <div id=\"df-05c686c7-8861-46e5-81fd-7ad4a643fd97\">\n",
              "    <div class=\"colab-df-container\">\n",
              "      <div>\n",
              "<style scoped>\n",
              "    .dataframe tbody tr th:only-of-type {\n",
              "        vertical-align: middle;\n",
              "    }\n",
              "\n",
              "    .dataframe tbody tr th {\n",
              "        vertical-align: top;\n",
              "    }\n",
              "\n",
              "    .dataframe thead th {\n",
              "        text-align: right;\n",
              "    }\n",
              "</style>\n",
              "<table border=\"1\" class=\"dataframe\">\n",
              "  <thead>\n",
              "    <tr style=\"text-align: right;\">\n",
              "      <th></th>\n",
              "      <th>location</th>\n",
              "      <th>continent</th>\n",
              "      <th>population</th>\n",
              "      <th>life_expectancy</th>\n",
              "      <th>hospital_beds_per_thousand</th>\n",
              "      <th>gdp_per_capita</th>\n",
              "    </tr>\n",
              "  </thead>\n",
              "  <tbody>\n",
              "    <tr>\n",
              "      <th>0</th>\n",
              "      <td>Afghanistan</td>\n",
              "      <td>Asia</td>\n",
              "      <td>38928341.0</td>\n",
              "      <td>64.83</td>\n",
              "      <td>0.50</td>\n",
              "      <td>1803.987</td>\n",
              "    </tr>\n",
              "    <tr>\n",
              "      <th>1</th>\n",
              "      <td>Albania</td>\n",
              "      <td>Europe</td>\n",
              "      <td>2877800.0</td>\n",
              "      <td>78.57</td>\n",
              "      <td>2.89</td>\n",
              "      <td>11803.431</td>\n",
              "    </tr>\n",
              "    <tr>\n",
              "      <th>2</th>\n",
              "      <td>Algeria</td>\n",
              "      <td>Africa</td>\n",
              "      <td>43851043.0</td>\n",
              "      <td>76.88</td>\n",
              "      <td>1.90</td>\n",
              "      <td>13913.839</td>\n",
              "    </tr>\n",
              "    <tr>\n",
              "      <th>6</th>\n",
              "      <td>Antigua and Barbuda</td>\n",
              "      <td>North America</td>\n",
              "      <td>97928.0</td>\n",
              "      <td>77.02</td>\n",
              "      <td>3.80</td>\n",
              "      <td>21490.943</td>\n",
              "    </tr>\n",
              "    <tr>\n",
              "      <th>7</th>\n",
              "      <td>Argentina</td>\n",
              "      <td>South America</td>\n",
              "      <td>45195777.0</td>\n",
              "      <td>76.67</td>\n",
              "      <td>5.00</td>\n",
              "      <td>18933.907</td>\n",
              "    </tr>\n",
              "  </tbody>\n",
              "</table>\n",
              "</div>\n",
              "      <button class=\"colab-df-convert\" onclick=\"convertToInteractive('df-05c686c7-8861-46e5-81fd-7ad4a643fd97')\"\n",
              "              title=\"Convert this dataframe to an interactive table.\"\n",
              "              style=\"display:none;\">\n",
              "        \n",
              "  <svg xmlns=\"http://www.w3.org/2000/svg\" height=\"24px\"viewBox=\"0 0 24 24\"\n",
              "       width=\"24px\">\n",
              "    <path d=\"M0 0h24v24H0V0z\" fill=\"none\"/>\n",
              "    <path d=\"M18.56 5.44l.94 2.06.94-2.06 2.06-.94-2.06-.94-.94-2.06-.94 2.06-2.06.94zm-11 1L8.5 8.5l.94-2.06 2.06-.94-2.06-.94L8.5 2.5l-.94 2.06-2.06.94zm10 10l.94 2.06.94-2.06 2.06-.94-2.06-.94-.94-2.06-.94 2.06-2.06.94z\"/><path d=\"M17.41 7.96l-1.37-1.37c-.4-.4-.92-.59-1.43-.59-.52 0-1.04.2-1.43.59L10.3 9.45l-7.72 7.72c-.78.78-.78 2.05 0 2.83L4 21.41c.39.39.9.59 1.41.59.51 0 1.02-.2 1.41-.59l7.78-7.78 2.81-2.81c.8-.78.8-2.07 0-2.86zM5.41 20L4 18.59l7.72-7.72 1.47 1.35L5.41 20z\"/>\n",
              "  </svg>\n",
              "      </button>\n",
              "      \n",
              "  <style>\n",
              "    .colab-df-container {\n",
              "      display:flex;\n",
              "      flex-wrap:wrap;\n",
              "      gap: 12px;\n",
              "    }\n",
              "\n",
              "    .colab-df-convert {\n",
              "      background-color: #E8F0FE;\n",
              "      border: none;\n",
              "      border-radius: 50%;\n",
              "      cursor: pointer;\n",
              "      display: none;\n",
              "      fill: #1967D2;\n",
              "      height: 32px;\n",
              "      padding: 0 0 0 0;\n",
              "      width: 32px;\n",
              "    }\n",
              "\n",
              "    .colab-df-convert:hover {\n",
              "      background-color: #E2EBFA;\n",
              "      box-shadow: 0px 1px 2px rgba(60, 64, 67, 0.3), 0px 1px 3px 1px rgba(60, 64, 67, 0.15);\n",
              "      fill: #174EA6;\n",
              "    }\n",
              "\n",
              "    [theme=dark] .colab-df-convert {\n",
              "      background-color: #3B4455;\n",
              "      fill: #D2E3FC;\n",
              "    }\n",
              "\n",
              "    [theme=dark] .colab-df-convert:hover {\n",
              "      background-color: #434B5C;\n",
              "      box-shadow: 0px 1px 3px 1px rgba(0, 0, 0, 0.15);\n",
              "      filter: drop-shadow(0px 1px 2px rgba(0, 0, 0, 0.3));\n",
              "      fill: #FFFFFF;\n",
              "    }\n",
              "  </style>\n",
              "\n",
              "      <script>\n",
              "        const buttonEl =\n",
              "          document.querySelector('#df-05c686c7-8861-46e5-81fd-7ad4a643fd97 button.colab-df-convert');\n",
              "        buttonEl.style.display =\n",
              "          google.colab.kernel.accessAllowed ? 'block' : 'none';\n",
              "\n",
              "        async function convertToInteractive(key) {\n",
              "          const element = document.querySelector('#df-05c686c7-8861-46e5-81fd-7ad4a643fd97');\n",
              "          const dataTable =\n",
              "            await google.colab.kernel.invokeFunction('convertToInteractive',\n",
              "                                                     [key], {});\n",
              "          if (!dataTable) return;\n",
              "\n",
              "          const docLinkHtml = 'Like what you see? Visit the ' +\n",
              "            '<a target=\"_blank\" href=https://colab.research.google.com/notebooks/data_table.ipynb>data table notebook</a>'\n",
              "            + ' to learn more about interactive tables.';\n",
              "          element.innerHTML = '';\n",
              "          dataTable['output_type'] = 'display_data';\n",
              "          await google.colab.output.renderOutput(dataTable, element);\n",
              "          const docLink = document.createElement('div');\n",
              "          docLink.innerHTML = docLinkHtml;\n",
              "          element.appendChild(docLink);\n",
              "        }\n",
              "      </script>\n",
              "    </div>\n",
              "  </div>\n",
              "  "
            ]
          },
          "metadata": {},
          "execution_count": 15
        }
      ]
    },
    {
      "cell_type": "code",
      "source": [
        "dfs.columns"
      ],
      "metadata": {
        "colab": {
          "base_uri": "https://localhost:8080/"
        },
        "id": "OuI--Z0wVABF",
        "outputId": "7eb8dc72-d36a-4d87-ebad-61faa1ec1698"
      },
      "execution_count": 16,
      "outputs": [
        {
          "output_type": "execute_result",
          "data": {
            "text/plain": [
              "Index(['location', 'continent', 'population', 'life_expectancy',\n",
              "       'hospital_beds_per_thousand', 'gdp_per_capita'],\n",
              "      dtype='object')"
            ]
          },
          "metadata": {},
          "execution_count": 16
        }
      ]
    },
    {
      "cell_type": "code",
      "source": [
        "dfs.to_sql(name='mytable',con=conn,if_exists='replace',index=True)\n",
        "conn.commit()\n",
        "conn.close()\n"
      ],
      "metadata": {
        "id": "dSPrxeCIWV7y"
      },
      "execution_count": 17,
      "outputs": []
    },
    {
      "cell_type": "markdown",
      "source": [
        "###4.Retrieve the countries that have a higher population than the average population of their respective continents."
      ],
      "metadata": {
        "id": "dFSd4UoEVsTq"
      }
    },
    {
      "cell_type": "code",
      "source": [
        "conn=sqlite3.connect('sales.db')"
      ],
      "metadata": {
        "id": "epzFNGYVXgU9"
      },
      "execution_count": 18,
      "outputs": []
    },
    {
      "cell_type": "code",
      "source": [
        "a=conn.execute(\"select * from mytable;\")"
      ],
      "metadata": {
        "id": "PwIyU9efWBAb"
      },
      "execution_count": 19,
      "outputs": []
    },
    {
      "cell_type": "code",
      "source": [
        "for r in a:\n",
        "  print(r)"
      ],
      "metadata": {
        "colab": {
          "base_uri": "https://localhost:8080/"
        },
        "id": "3I0Sa5d-Wlkv",
        "outputId": "2473b636-ab07-4f3d-fa91-63a8f1b77ace"
      },
      "execution_count": 20,
      "outputs": [
        {
          "output_type": "stream",
          "name": "stdout",
          "text": [
            "(0, 'Afghanistan', 'Asia', 38928341.0, 64.83, 0.5, 1803.987)\n",
            "(1, 'Albania', 'Europe', 2877800.0, 78.57, 2.89, 11803.431)\n",
            "(2, 'Algeria', 'Africa', 43851043.0, 76.88, 1.9, 13913.839)\n",
            "(6, 'Antigua and Barbuda', 'North America', 97928.0, 77.02, 3.8, 21490.943)\n",
            "(7, 'Argentina', 'South America', 45195777.0, 76.67, 5.0, 18933.907)\n",
            "(8, 'Armenia', 'Asia', 2963234.0, 75.09, 4.2, 8787.58)\n",
            "(10, 'Australia', 'Oceania', 25499881.0, 83.44, 3.84, 44648.71)\n",
            "(11, 'Austria', 'Europe', 9006400.0, 81.54, 7.37, 45436.686)\n",
            "(12, 'Azerbaijan', 'Asia', 10139175.0, 73.0, 4.7, 15847.419)\n",
            "(13, 'Bahamas', 'North America', 393248.0, 73.92, 2.9, 27717.847)\n",
            "(14, 'Bahrain', 'Asia', 1701583.0, 77.29, 2.0, 43290.705)\n",
            "(15, 'Bangladesh', 'Asia', 164689383.0, 72.59, 0.8, 3523.9840000000004)\n",
            "(16, 'Barbados', 'North America', 287371.0, 79.19, 5.8, 16978.068)\n",
            "(17, 'Belarus', 'Europe', 9449321.0, 74.79, 11.0, 17167.967)\n",
            "(18, 'Belgium', 'Europe', 11589616.0, 81.63, 5.64, 42658.576)\n",
            "(19, 'Belize', 'North America', 397621.0, 74.62, 1.3, 7824.361999999999)\n",
            "(20, 'Benin', 'Africa', 12123198.0, 61.77, 0.5, 2064.236)\n",
            "(22, 'Bhutan', 'Asia', 771612.0, 71.78, 1.7, 8708.597)\n",
            "(23, 'Bolivia', 'South America', 11673029.0, 71.51, 1.1, 6885.829000000001)\n",
            "(25, 'Bosnia and Herzegovina', 'Europe', 3280815.0, 77.4, 3.5, 11713.895)\n",
            "(26, 'Botswana', 'Africa', 2351625.0, 69.59, 1.8, 15807.374)\n",
            "(27, 'Brazil', 'South America', 212559409.0, 75.88, 2.2, 14103.452)\n",
            "(29, 'Brunei', 'Asia', 437483.0, 75.86, 2.7, 71809.25099999999)\n",
            "(30, 'Bulgaria', 'Europe', 6948445.0, 75.05, 7.454, 18563.307)\n",
            "(31, 'Burkina Faso', 'Africa', 20903278.0, 61.58, 0.4, 1703.102)\n",
            "(32, 'Burundi', 'Africa', 11890781.0, 61.58, 0.8, 702.225)\n",
            "(33, 'Cambodia', 'Asia', 16718971.0, 69.82, 0.8, 3645.07)\n",
            "(34, 'Cameroon', 'Africa', 26545864.0, 59.29, 1.3, 3364.926)\n",
            "(35, 'Canada', 'North America', 37742157.0, 82.43, 2.5, 44017.59099999999)\n",
            "(36, 'Cape Verde', 'Africa', 555988.0, 72.98, 2.1, 6222.554)\n",
            "(38, 'Central African Republic', 'Africa', 4829764.0, 53.28, 1.0, 661.24)\n",
            "(40, 'Chile', 'South America', 19116209.0, 80.18, 2.11, 22767.037)\n",
            "(41, 'China', 'Asia', 1439323774.0, 76.91, 4.34, 15308.712)\n",
            "(42, 'Colombia', 'South America', 50882884.0, 77.29, 1.71, 13254.949)\n",
            "(43, 'Comoros', 'Africa', 869595.0, 64.32, 2.2, 1413.89)\n",
            "(45, 'Costa Rica', 'North America', 5094114.0, 80.28, 1.13, 15524.995)\n",
            "(47, 'Croatia', 'Europe', 4105268.0, 78.49, 5.54, 22669.797)\n",
            "(50, 'Cyprus', 'Europe', 875899.0, 80.98, 3.4, 32415.132)\n",
            "(51, 'Czech Republic', 'Europe', 10708982.0, 79.38, 6.63, 32605.906000000003)\n",
            "(53, 'Denmark', 'Europe', 5792203.0, 80.9, 2.5, 46682.515)\n",
            "(54, 'Djibouti', 'Africa', 988002.0, 67.11, 1.4, 2705.406)\n",
            "(55, 'Dominica', 'North America', 71991.0, 75.0, 3.8, 9673.367)\n",
            "(56, 'Dominican Republic', 'North America', 10847904.0, 74.08, 1.6, 14600.861)\n",
            "(57, 'Ecuador', 'South America', 17643060.0, 77.01, 1.5, 10581.936000000002)\n",
            "(58, 'Egypt', 'Africa', 102334403.0, 71.99, 1.6, 10550.206)\n",
            "(59, 'El Salvador', 'North America', 6486201.0, 73.32, 1.3, 7292.458)\n",
            "(60, 'Equatorial Guinea', 'Africa', 1402985.0, 58.74, 2.1, 22604.873)\n",
            "(61, 'Eritrea', 'Africa', 3546427.0, 66.32, 0.7, 1510.4589999999998)\n",
            "(62, 'Estonia', 'Europe', 1326539.0, 78.74, 4.69, 29481.252)\n",
            "(63, 'Ethiopia', 'Africa', 114963583.0, 66.6, 0.3, 1729.927)\n",
            "(66, 'Fiji', 'Oceania', 896444.0, 67.44, 2.3, 8702.975)\n",
            "(67, 'Finland', 'Europe', 5540718.0, 81.91, 3.28, 40585.721)\n",
            "(68, 'France', 'Europe', 65273512.0, 82.66, 5.98, 38605.671)\n",
            "(70, 'Gabon', 'Africa', 2225728.0, 66.47, 6.3, 16562.413)\n",
            "(71, 'Gambia', 'Africa', 2416664.0, 62.05, 1.1, 1561.767)\n",
            "(72, 'Georgia', 'Asia', 3989175.0, 73.77, 2.6, 9745.079)\n",
            "(73, 'Germany', 'Europe', 83783945.0, 81.33, 8.0, 45229.245)\n",
            "(74, 'Ghana', 'Africa', 31072945.0, 64.07, 0.9, 4227.63)\n",
            "(76, 'Greece', 'Europe', 10423056.0, 82.24, 4.21, 24574.382)\n",
            "(78, 'Grenada', 'North America', 112519.0, 72.4, 3.7, 13593.877)\n",
            "(80, 'Guatemala', 'North America', 17915567.0, 74.3, 0.6, 7423.808000000001)\n",
            "(82, 'Guinea', 'Africa', 13132792.0, 61.6, 0.3, 1998.926)\n",
            "(84, 'Guyana', 'South America', 786559.0, 69.91, 1.6, 7435.047)\n",
            "(85, 'Haiti', 'North America', 11402533.0, 64.0, 0.7, 1653.1729999999998)\n",
            "(86, 'Honduras', 'North America', 9904608.0, 75.27, 0.7, 4541.795)\n",
            "(88, 'Hungary', 'Europe', 9660350.0, 76.88, 7.02, 26777.561)\n",
            "(89, 'Iceland', 'Europe', 341250.0, 82.99, 2.91, 46482.958)\n",
            "(90, 'India', 'Asia', 1380004385.0, 69.66, 0.53, 6426.674)\n",
            "(91, 'Indonesia', 'Asia', 273523621.0, 71.72, 1.04, 11188.744)\n",
            "(92, 'Iran', 'Asia', 83992953.0, 76.68, 1.5, 19082.62)\n",
            "(93, 'Iraq', 'Asia', 40222503.0, 70.6, 1.4, 15663.986)\n",
            "(94, 'Ireland', 'Europe', 4937796.0, 82.3, 2.96, 67335.293)\n",
            "(96, 'Israel', 'Asia', 8655541.0, 82.97, 2.99, 33132.32)\n",
            "(97, 'Italy', 'Europe', 60461828.0, 83.51, 3.18, 35220.084)\n",
            "(98, 'Jamaica', 'North America', 2961161.0, 74.47, 1.7, 8193.571)\n",
            "(99, 'Japan', 'Asia', 126476458.0, 84.63, 13.05, 39002.223)\n",
            "(101, 'Jordan', 'Asia', 10203140.0, 74.53, 1.4, 8337.49)\n",
            "(102, 'Kazakhstan', 'Asia', 18776707.0, 73.6, 6.7, 24055.588)\n",
            "(103, 'Kenya', 'Africa', 53771300.0, 66.7, 1.4, 2993.028)\n",
            "(105, 'Kuwait', 'Asia', 4270563.0, 75.49, 2.0, 65530.537)\n",
            "(106, 'Kyrgyzstan', 'Asia', 6524191.0, 71.45, 4.5, 3393.474)\n",
            "(107, 'Laos', 'Asia', 7275556.0, 67.92, 1.5, 6397.36)\n",
            "(108, 'Latvia', 'Europe', 1886202.0, 75.29, 5.57, 25063.846)\n",
            "(109, 'Lebanon', 'Asia', 6825442.0, 78.93, 2.9, 13367.565)\n",
            "(111, 'Liberia', 'Africa', 5057677.0, 64.1, 0.8, 752.788)\n",
            "(112, 'Libya', 'Africa', 6871287.0, 72.91, 3.7, 17881.509)\n",
            "(114, 'Lithuania', 'Europe', 2722291.0, 75.93, 6.56, 29524.265)\n",
            "(115, 'Luxembourg', 'Europe', 625976.0, 82.25, 4.51, 94277.965)\n",
            "(116, 'Macedonia', 'Europe', 2083380.0, 75.8, 4.28, 13111.214)\n",
            "(117, 'Madagascar', 'Africa', 27691019.0, 67.04, 0.2, 1416.44)\n",
            "(118, 'Malawi', 'Africa', 19129955.0, 64.26, 1.3, 1095.042)\n",
            "(119, 'Malaysia', 'Asia', 32365998.0, 76.16, 1.9, 26808.164)\n",
            "(121, 'Mali', 'Africa', 20250834.0, 59.31, 0.1, 2014.306)\n",
            "(122, 'Malta', 'Europe', 441539.0, 82.53, 4.485, 36513.323)\n",
            "(124, 'Mauritius', 'Africa', 1271767.0, 74.99, 3.4, 20292.745)\n",
            "(125, 'Mexico', 'North America', 128932753.0, 75.05, 1.38, 17336.468999999997)\n",
            "(126, 'Moldova', 'Europe', 4033963.0, 71.9, 5.8, 5189.972)\n",
            "(128, 'Mongolia', 'Asia', 3278292.0, 69.87, 7.0, 11840.846)\n",
            "(129, 'Montenegro', 'Europe', 628062.0, 76.88, 3.861, 16409.288)\n",
            "(131, 'Morocco', 'Africa', 36910558.0, 76.68, 1.1, 7485.013000000001)\n",
            "(132, 'Mozambique', 'Africa', 31255435.0, 60.85, 0.7, 1136.103)\n",
            "(133, 'Myanmar', 'Asia', 54409794.0, 67.13, 0.9, 5591.597)\n",
            "(135, 'Nepal', 'Asia', 29136808.0, 70.78, 0.3, 2442.804)\n",
            "(136, 'Netherlands', 'Europe', 17134873.0, 82.28, 3.32, 48472.545)\n",
            "(138, 'New Zealand', 'Oceania', 4822233.0, 82.29, 2.61, 36085.843)\n",
            "(139, 'Nicaragua', 'North America', 6624554.0, 74.48, 0.9, 5321.444)\n",
            "(140, 'Niger', 'Africa', 24206636.0, 62.42, 0.3, 926.0)\n",
            "(143, 'Norway', 'Europe', 5421242.0, 82.4, 3.6, 64800.057)\n",
            "(144, 'Oman', 'Asia', 5106622.0, 77.86, 1.6, 37960.709)\n",
            "(145, 'Pakistan', 'Asia', 220892331.0, 67.27, 0.6, 5034.708)\n",
            "(147, 'Panama', 'North America', 4314768.0, 78.51, 2.3, 22267.037)\n",
            "(149, 'Paraguay', 'South America', 7132530.0, 74.25, 1.3, 8827.01)\n",
            "(150, 'Peru', 'South America', 32971846.0, 76.74, 1.6, 12236.706)\n",
            "(151, 'Philippines', 'Asia', 109581085.0, 71.23, 1.0, 7599.188)\n",
            "(152, 'Poland', 'Europe', 37846605.0, 78.73, 6.62, 27216.445)\n",
            "(153, 'Portugal', 'Europe', 10196707.0, 82.05, 3.39, 27936.896)\n",
            "(155, 'Qatar', 'Asia', 2881060.0, 80.23, 1.2, 116935.6)\n",
            "(156, 'Romania', 'Europe', 19237682.0, 76.05, 6.892, 23313.199)\n",
            "(157, 'Russia', 'Europe', 145934460.0, 72.58, 8.05, 24765.954)\n",
            "(159, 'Saint Kitts and Nevis', 'North America', 53192.0, 76.23, 2.3, 24654.385)\n",
            "(160, 'Saint Lucia', 'North America', 183629.0, 76.2, 1.3, 12951.839)\n",
            "(161, 'Saint Vincent and the Grenadines', 'North America', 110947.0, 72.53, 2.6, 10727.146)\n",
            "(162, 'San Marino', 'Europe', 33938.0, 84.97, 3.8, 56861.47)\n",
            "(163, 'Sao Tome and Principe', 'Africa', 219161.0, 70.39, 2.9, 3052.7140000000004)\n",
            "(164, 'Saudi Arabia', 'Asia', 34813867.0, 75.13, 2.7, 49045.41099999999)\n",
            "(166, 'Serbia', 'Europe', 6804596.0, 76.0, 5.609, 14048.881)\n",
            "(167, 'Seychelles', 'Africa', 98340.0, 73.4, 3.6, 26382.287)\n",
            "(169, 'Singapore', 'Asia', 5850343.0, 83.62, 2.4, 85535.383)\n",
            "(171, 'Slovakia', 'Europe', 5459643.0, 77.54, 5.82, 30155.152)\n",
            "(172, 'Slovenia', 'Europe', 2078932.0, 81.32, 4.5, 31400.84)\n",
            "(174, 'South Africa', 'Africa', 59308690.0, 64.13, 2.32, 12294.876)\n",
            "(175, 'South Korea', 'Asia', 51269183.0, 83.03, 12.27, 35938.374)\n",
            "(177, 'Spain', 'Europe', 46754783.0, 83.56, 2.97, 34272.36)\n",
            "(178, 'Sri Lanka', 'Asia', 21413250.0, 76.98, 3.6, 11669.077)\n",
            "(179, 'Sudan', 'Africa', 43849269.0, 65.31, 0.8, 4466.5070000000005)\n",
            "(180, 'Suriname', 'South America', 586634.0, 71.68, 3.1, 13767.119)\n",
            "(181, 'Swaziland', 'Africa', 1160164.0, 60.19, 2.1, 7738.975)\n",
            "(182, 'Sweden', 'Europe', 10099270.0, 82.8, 2.22, 46949.283)\n",
            "(183, 'Switzerland', 'Europe', 8654618.0, 83.78, 4.53, 57410.166)\n",
            "(186, 'Tajikistan', 'Asia', 9537642.0, 71.1, 4.8, 2896.913)\n",
            "(187, 'Tanzania', 'Africa', 59734213.0, 65.46, 0.7, 2683.304)\n",
            "(188, 'Thailand', 'Asia', 69799978.0, 77.15, 2.1, 16277.671)\n",
            "(189, 'Timor', 'Asia', 1318442.0, 69.5, 5.9, 6570.102)\n",
            "(190, 'Togo', 'Africa', 8278737.0, 61.04, 0.7, 1429.813)\n",
            "(191, 'Trinidad and Tobago', 'North America', 1399491.0, 73.51, 3.0, 28763.071)\n",
            "(192, 'Tunisia', 'Africa', 11818618.0, 76.7, 2.3, 10849.297)\n",
            "(193, 'Turkey', 'Asia', 84339067.0, 77.69, 2.81, 25129.341)\n",
            "(195, 'Uganda', 'Africa', 45741000.0, 63.37, 0.5, 1697.707)\n",
            "(196, 'Ukraine', 'Europe', 43733759.0, 72.06, 8.8, 7894.393)\n",
            "(197, 'United Arab Emirates', 'Asia', 9890400.0, 77.97, 1.2, 67293.483)\n",
            "(198, 'United Kingdom', 'Europe', 67886004.0, 81.32, 2.54, 39753.244)\n",
            "(199, 'United States', 'North America', 331002647.0, 78.86, 2.77, 54225.446)\n",
            "(201, 'Uruguay', 'South America', 3473727.0, 77.91, 2.8, 20551.409)\n",
            "(202, 'Uzbekistan', 'Asia', 33469199.0, 71.72, 4.0, 6253.104)\n",
            "(204, 'Venezuela', 'South America', 28435943.0, 72.06, 0.8, 16745.022)\n",
            "(205, 'Vietnam', 'Asia', 97338583.0, 75.4, 2.6, 6171.884)\n",
            "(207, 'Yemen', 'Asia', 29825968.0, 66.12, 0.7, 1479.1470000000002)\n",
            "(208, 'Zambia', 'Africa', 18383956.0, 63.89, 2.0, 3689.251)\n",
            "(209, 'Zimbabwe', 'Africa', 14862927.0, 61.49, 1.7, 1899.775)\n"
          ]
        }
      ]
    },
    {
      "cell_type": "code",
      "source": [
        "a=conn.execute(\"select location,population from mytable where population>(select avg(population) from mytable group by continent);\")"
      ],
      "metadata": {
        "id": "BovaM5VbWz2g"
      },
      "execution_count": 21,
      "outputs": []
    },
    {
      "cell_type": "code",
      "source": [
        "for r in a:\n",
        "  print(r)"
      ],
      "metadata": {
        "colab": {
          "base_uri": "https://localhost:8080/"
        },
        "id": "Q_d2B71KYVZO",
        "outputId": "907cf1fa-7389-4527-b1a4-4a3f41f452a3"
      },
      "execution_count": 22,
      "outputs": [
        {
          "output_type": "stream",
          "name": "stdout",
          "text": [
            "('Afghanistan', 38928341.0)\n",
            "('Algeria', 43851043.0)\n",
            "('Argentina', 45195777.0)\n",
            "('Australia', 25499881.0)\n",
            "('Bangladesh', 164689383.0)\n",
            "('Brazil', 212559409.0)\n",
            "('Cameroon', 26545864.0)\n",
            "('Canada', 37742157.0)\n",
            "('China', 1439323774.0)\n",
            "('Colombia', 50882884.0)\n",
            "('Egypt', 102334403.0)\n",
            "('Ethiopia', 114963583.0)\n",
            "('France', 65273512.0)\n",
            "('Germany', 83783945.0)\n",
            "('Ghana', 31072945.0)\n",
            "('India', 1380004385.0)\n",
            "('Indonesia', 273523621.0)\n",
            "('Iran', 83992953.0)\n",
            "('Iraq', 40222503.0)\n",
            "('Italy', 60461828.0)\n",
            "('Japan', 126476458.0)\n",
            "('Kenya', 53771300.0)\n",
            "('Madagascar', 27691019.0)\n",
            "('Malaysia', 32365998.0)\n",
            "('Mexico', 128932753.0)\n",
            "('Morocco', 36910558.0)\n",
            "('Mozambique', 31255435.0)\n",
            "('Myanmar', 54409794.0)\n",
            "('Nepal', 29136808.0)\n",
            "('Niger', 24206636.0)\n",
            "('Pakistan', 220892331.0)\n",
            "('Peru', 32971846.0)\n",
            "('Philippines', 109581085.0)\n",
            "('Poland', 37846605.0)\n",
            "('Russia', 145934460.0)\n",
            "('Saudi Arabia', 34813867.0)\n",
            "('South Africa', 59308690.0)\n",
            "('South Korea', 51269183.0)\n",
            "('Spain', 46754783.0)\n",
            "('Sudan', 43849269.0)\n",
            "('Tanzania', 59734213.0)\n",
            "('Thailand', 69799978.0)\n",
            "('Turkey', 84339067.0)\n",
            "('Uganda', 45741000.0)\n",
            "('Ukraine', 43733759.0)\n",
            "('United Kingdom', 67886004.0)\n",
            "('United States', 331002647.0)\n",
            "('Uzbekistan', 33469199.0)\n",
            "('Venezuela', 28435943.0)\n",
            "('Vietnam', 97338583.0)\n",
            "('Yemen', 29825968.0)\n"
          ]
        }
      ]
    },
    {
      "cell_type": "markdown",
      "source": [
        "###5.Retrieve the countries with a life expectancy lower than the global average life expectancy but a higher GDP per capita than the global average GDP per capita."
      ],
      "metadata": {
        "id": "Uq8CvQn-YekN"
      }
    },
    {
      "cell_type": "code",
      "source": [
        "dfs.columns"
      ],
      "metadata": {
        "colab": {
          "base_uri": "https://localhost:8080/"
        },
        "id": "HNFMBkSdZh-8",
        "outputId": "02f357f9-10db-4cfe-9a18-17f3310c8b23"
      },
      "execution_count": 23,
      "outputs": [
        {
          "output_type": "execute_result",
          "data": {
            "text/plain": [
              "Index(['location', 'continent', 'population', 'life_expectancy',\n",
              "       'hospital_beds_per_thousand', 'gdp_per_capita'],\n",
              "      dtype='object')"
            ]
          },
          "metadata": {},
          "execution_count": 23
        }
      ]
    },
    {
      "cell_type": "code",
      "source": [
        "a=conn.execute('''WITH global_avg AS (\n",
        "  SELECT AVG(life_expectancy) AS avg_life_expectancy, AVG(gdp_per_capita) AS avg_gdp_per_capita\n",
        "  FROM mytable\n",
        ")\n",
        "SELECT location\n",
        "FROM mytable\n",
        "JOIN global_avg ON 1=1\n",
        "WHERE life_expectancy < avg_life_expectancy\n",
        "AND gdp_per_capita > avg_gdp_per_capita;''')"
      ],
      "metadata": {
        "id": "fGSeWxOQabRL"
      },
      "execution_count": 24,
      "outputs": []
    },
    {
      "cell_type": "code",
      "source": [
        "for r in a:\n",
        "  print(r)"
      ],
      "metadata": {
        "colab": {
          "base_uri": "https://localhost:8080/"
        },
        "id": "KFwb1TTHa4JG",
        "outputId": "8a59c47f-5740-495a-f270-2acef9b329f9"
      },
      "execution_count": 25,
      "outputs": [
        {
          "output_type": "stream",
          "name": "stdout",
          "text": [
            "('Equatorial Guinea',)\n",
            "('Kazakhstan',)\n",
            "('Russia',)\n",
            "('Seychelles',)\n",
            "('Trinidad and Tobago',)\n"
          ]
        }
      ]
    },
    {
      "cell_type": "code",
      "source": [
        "a=conn.execute('''SELECT location\n",
        "FROM mytable\n",
        "WHERE life_expectancy < (\n",
        "  SELECT AVG(life_expectancy)\n",
        "  FROM mytable\n",
        ")\n",
        "AND gdp_per_capita > (\n",
        "  SELECT AVG(gdp_per_capita)\n",
        "  FROM mytable\n",
        ");\n",
        "''')\n"
      ],
      "metadata": {
        "id": "ls3ZEhcNa6Y5"
      },
      "execution_count": 26,
      "outputs": []
    },
    {
      "cell_type": "code",
      "source": [
        "for r in a:\n",
        "  print(r)"
      ],
      "metadata": {
        "colab": {
          "base_uri": "https://localhost:8080/"
        },
        "id": "D0QEFvQLbQW5",
        "outputId": "015874aa-bc28-4726-99f1-d65330c4fecf"
      },
      "execution_count": 27,
      "outputs": [
        {
          "output_type": "stream",
          "name": "stdout",
          "text": [
            "('Equatorial Guinea',)\n",
            "('Kazakhstan',)\n",
            "('Russia',)\n",
            "('Seychelles',)\n",
            "('Trinidad and Tobago',)\n"
          ]
        }
      ]
    },
    {
      "cell_type": "code",
      "source": [],
      "metadata": {
        "id": "K4UpKxCAdLH6"
      },
      "execution_count": 27,
      "outputs": []
    }
  ]
}